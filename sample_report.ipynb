{
 "cells": [
  {
   "cell_type": "code",
   "execution_count": 3,
   "id": "9c796b10-5624-41ce-98a4-84c76361042c",
   "metadata": {
    "tags": []
   },
   "outputs": [],
   "source": [
    "import matplotlib.pyplot as plt\n",
    "import numpy as np"
   ]
  },
  {
   "cell_type": "code",
   "execution_count": 4,
   "id": "ed9f0d58-c675-4994-9ba2-f02414fe2a88",
   "metadata": {},
   "outputs": [],
   "source": [
    "import mercury as mr   "
   ]
  },
  {
   "cell_type": "code",
   "execution_count": 5,
   "id": "426fbf52-fd3c-487a-8696-cf10702d7d02",
   "metadata": {
    "tags": []
   },
   "outputs": [
    {
     "data": {
      "application/mercury+json": "{\n    \"widget\": \"Checkbox\",\n    \"value\": false,\n    \"label\": \"Show code\",\n    \"model_id\": \"71341089347d4a6e91695bcd6cb1fefc\",\n    \"code_uid\": \"Checkbox.0.40.11.2-rand42585c6f\"\n}",
      "application/vnd.jupyter.widget-view+json": {
       "model_id": "71341089347d4a6e91695bcd6cb1fefc",
       "version_major": 2,
       "version_minor": 0
      },
      "text/plain": [
       "mercury.Checkbox"
      ]
     },
     "metadata": {},
     "output_type": "display_data"
    }
   ],
   "source": [
    "# checkbox to control code visibility\n",
    "show_code = mr.Checkbox(label=\"Show code\", value=False)"
   ]
  },
  {
   "cell_type": "code",
   "execution_count": 13,
   "id": "d44d0350-13a3-42b2-a100-7e72209a84a1",
   "metadata": {
    "tags": []
   },
   "outputs": [
    {
     "data": {
      "application/mercury+json": "{\n    \"widget\": \"App\",\n    \"title\": \"Sample Report\",\n    \"description\": \"Lorem ipsum dolor sit amet, consectetur adipiscing elit, sed do eiusmod tempor incididunt ut labore et dolore magna aliqua. Ut enim ad minim veniam, quis nostrud exercitation ullamco laboris nisi ut aliquip ex ea commodo consequat. Duis aute irure dolor in reprehenderit in voluptate velit esse cillum dolore eu fugiat nulla pariatur. Excepteur sint occaecat cupidatat non proident, sunt in culpa qui officia deserunt mollit anim id est laborum.\",\n    \"show_code\": false,\n    \"show_prompt\": false,\n    \"share\": \"public\",\n    \"output\": \"app\",\n    \"schedule\": \"\",\n    \"notify\": \"{}\",\n    \"continuous_update\": true,\n    \"static_notebook\": false,\n    \"show_sidebar\": true,\n    \"full_screen\": true,\n    \"allow_download\": false,\n    \"model_id\": \"mercury-app\",\n    \"code_uid\": \"App.0.40.25.1-randb0e920b5\"\n}",
      "text/html": [
       "<h3>Mercury Application</h3><small>This output won't appear in the web app.</small>"
      ],
      "text/plain": [
       "mercury.App"
      ]
     },
     "metadata": {},
     "output_type": "display_data"
    }
   ],
   "source": [
    "app = mr.App(title=\"Sample Report\",\n",
    "        description=\"Lorem ipsum dolor sit amet, consectetur adipiscing elit, sed do eiusmod tempor incididunt ut labore et dolore magna aliqua. Ut enim ad minim veniam, quis nostrud exercitation ullamco laboris nisi ut aliquip ex ea commodo consequat. Duis aute irure dolor in reprehenderit in voluptate velit esse cillum dolore eu fugiat nulla pariatur. Excepteur sint occaecat cupidatat non proident, sunt in culpa qui officia deserunt mollit anim id est laborum.\",\n",
    "        show_code=show_code.value,\n",
    "        show_prompt=False,\n",
    "        continuous_update=True,\n",
    "        static_notebook=False,\n",
    "        show_sidebar=True,\n",
    "        full_screen=True,\n",
    "        allow_download=False)"
   ]
  },
  {
   "cell_type": "code",
   "execution_count": 7,
   "id": "b15c3130-bf66-483c-986c-50eef0006fda",
   "metadata": {
    "tags": []
   },
   "outputs": [
    {
     "data": {
      "application/mercury+json": "{\n    \"widget\": \"Slider\",\n    \"value\": 0,\n    \"min\": 0,\n    \"max\": 10,\n    \"step\": 1,\n    \"label\": \"Hogs\",\n    \"model_id\": \"73d5b31d8f764a899956b114a410e695\",\n    \"code_uid\": \"Slider.0.40.16.1-rand5f4ac6e4\"\n}",
      "application/vnd.jupyter.widget-view+json": {
       "model_id": "73d5b31d8f764a899956b114a410e695",
       "version_major": 2,
       "version_minor": 0
      },
      "text/plain": [
       "mercury.Slider"
      ]
     },
     "metadata": {},
     "output_type": "display_data"
    }
   ],
   "source": [
    "hogs_slider = mr.Slider(value=0, min=0, max=10, label=\"Hogs\", step=1)"
   ]
  },
  {
   "cell_type": "code",
   "execution_count": 8,
   "id": "bdda18d8-f06a-4888-9920-2224d1f3a8a9",
   "metadata": {
    "tags": []
   },
   "outputs": [],
   "source": [
    "import random"
   ]
  },
  {
   "cell_type": "code",
   "execution_count": 11,
   "id": "bfe67093-3166-4039-8dbb-088510a40b82",
   "metadata": {
    "tags": []
   },
   "outputs": [],
   "source": [
    "labels = ['Frogs', 'Hogs', 'Dogs', 'Logs']\n",
    "sizes = [random.randint(1, 10), hogs_slider.value, random.randint(1, 10), random.randint(1, 10)]\n",
    "# sizes = [frogs_slider.vlaue, hogs_slider.vlaue, dogs_slider.vlaue, logs_slider.vlaue]"
   ]
  },
  {
   "cell_type": "code",
   "execution_count": 12,
   "id": "9fbdf20d-2bc0-4a77-b0f9-84cb1d3cdfe7",
   "metadata": {
    "tags": []
   },
   "outputs": [
    {
     "data": {
      "image/png": "[encoded data removed]",
      "text/plain": [
       "<Figure size 640x480 with 1 Axes>"
      ]
     },
     "metadata": {},
     "output_type": "display_data"
    }
   ],
   "source": [
    "fig, ax = plt.subplots()\n",
    "ax.pie(sizes, labels=labels,\n",
    "       colors=['red', 'green', 'orange', 'blue'])\n",
    "plt.show()"
   ]
  },
  {
   "cell_type": "code",
   "execution_count": null,
   "id": "92129d5a-d38c-4f7b-b0bd-ce20736d605f",
   "metadata": {},
   "outputs": [],
   "source": []
  }
 ],
 "metadata": {
  "kernelspec": {
   "display_name": "Python 3 (ipykernel)",
   "language": "python",
   "name": "python3"
  },
  "language_info": {
   "codemirror_mode": {
    "name": "ipython",
    "version": 3
   },
   "file_extension": ".py",
   "mimetype": "text/x-python",
   "name": "python",
   "nbconvert_exporter": "python",
   "pygments_lexer": "ipython3",
   "version": "3.10.10"
  }
 },
 "nbformat": 4,
 "nbformat_minor": 5
}
