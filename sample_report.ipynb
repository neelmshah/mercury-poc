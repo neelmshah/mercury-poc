{
 "cells": [
  {
   "cell_type": "code",
   "execution_count": 4,
   "id": "9c796b10-5624-41ce-98a4-84c76361042c",
   "metadata": {
    "tags": []
   },
   "outputs": [],
   "source": [
    "import matplotlib.pyplot as plt\n",
    "import numpy as np"
   ]
  },
  {
   "cell_type": "code",
   "execution_count": 47,
   "id": "ed9f0d58-c675-4994-9ba2-f02414fe2a88",
   "metadata": {},
   "outputs": [
    {
     "data": {
      "application/mercury+json": "{\n    \"widget\": \"Checkbox\",\n    \"value\": false,\n    \"label\": \"Show code\",\n    \"model_id\": \"48bfe9ba3eb44f3b83d19517dc333139\",\n    \"code_uid\": \"Checkbox.0.40.11.5-rand92a623db\"\n}",
      "application/vnd.jupyter.widget-view+json": {
       "model_id": "48bfe9ba3eb44f3b83d19517dc333139",
       "version_major": 2,
       "version_minor": 0
      },
      "text/plain": [
       "mercury.Checkbox"
      ]
     },
     "metadata": {},
     "output_type": "display_data"
    },
    {
     "data": {
      "application/mercury+json": "{\n    \"widget\": \"App\",\n    \"title\": \"Sample Reports \",\n    \"description\": \"\",\n    \"show_code\": false,\n    \"show_prompt\": false,\n    \"share\": \"public\",\n    \"output\": \"app\",\n    \"schedule\": \"\",\n    \"notify\": \"{}\",\n    \"continuous_update\": true,\n    \"static_notebook\": false,\n    \"show_sidebar\": true,\n    \"full_screen\": true,\n    \"allow_download\": true,\n    \"model_id\": \"mercury-app\",\n    \"code_uid\": \"App.0.40.25.7-randde9021e9\"\n}",
      "text/html": [
       "<h3>Mercury Application</h3><small>This output won't appear in the web app.</small>"
      ],
      "text/plain": [
       "mercury.App"
      ]
     },
     "metadata": {},
     "output_type": "display_data"
    },
    {
     "data": {
      "application/mercury+json": "{\n    \"widget\": \"Slider\",\n    \"value\": 0,\n    \"min\": 0,\n    \"max\": 10,\n    \"step\": 1,\n    \"label\": \"Hogs\",\n    \"model_id\": \"83cedbc6e516463681c03d594d7454a8\",\n    \"code_uid\": \"Slider.0.40.16.16-rand5f5188b7\"\n}",
      "application/vnd.jupyter.widget-view+json": {
       "model_id": "83cedbc6e516463681c03d594d7454a8",
       "version_major": 2,
       "version_minor": 0
      },
      "text/plain": [
       "mercury.Slider"
      ]
     },
     "metadata": {},
     "output_type": "display_data"
    }
   ],
   "source": [
    "import mercury as mr\n",
    " \n",
    " \n",
    "# checkbox to control code visibility\n",
    "show_code = mr.Checkbox(label=\"Show code\", value=False)\n",
    "\n",
    "app = mr.App(title=\"Sample Report\",\n",
    "        description=\"\",\n",
    "        show_code=show_code.value,\n",
    "        show_prompt=False,\n",
    "        continuous_update=True,\n",
    "        static_notebook=False,\n",
    "        show_sidebar=True,\n",
    "        full_screen=True,\n",
    "        allow_download=False)\n",
    "hogs_slider = mr.Slider(value=0, min=0, max=10, label=\"Hogs\", step=1)\n",
    "    "
   ]
  },
  {
   "cell_type": "code",
   "execution_count": 48,
   "id": "9bbcbd46-120e-4626-b3bc-5d006a56a8fc",
   "metadata": {
    "tags": []
   },
   "outputs": [
    {
     "data": {
      "image/png": "[encoded data removed]",
      "text/plain": [
       "<Figure size 200x200 with 1 Axes>"
      ]
     },
     "metadata": {},
     "output_type": "display_data"
    }
   ],
   "source": [
    "labels = 'Frogs', 'Hogs', 'Dogs', 'Logs'\n",
    "sizes = [6, hogs_slider.value, 4, 2]\n",
    "# sizes = [frogs_slider.vlaue, hogs_slider.vlaue, dogs_slider.vlaue, logs_slider.vlaue]\n",
    "fig, ax = plt.subplots()\n",
    "\n",
    "ax.pie(sizes, labels=labels,\n",
    "       colors=['red', 'green', 'orange', 'blue'])\n",
    "plt.show()"
   ]
  },
  {
   "cell_type": "code",
   "execution_count": 49,
   "id": "43221e79-21b0-4517-92d2-0e857ce51fb0",
   "metadata": {
    "tags": []
   },
   "outputs": [
    {
     "name": "stdout",
     "output_type": "stream",
     "text": [
      "0\n"
     ]
    }
   ],
   "source": [
    "print(hogs_slider.value)"
   ]
  },
  {
   "cell_type": "code",
   "execution_count": null,
   "id": "f58adc8a-25de-4afe-acef-3c0a0186a5d6",
   "metadata": {},
   "outputs": [],
   "source": []
  }
 ],
 "metadata": {
  "kernelspec": {
   "display_name": "Python 3 (ipykernel)",
   "language": "python",
   "name": "python3"
  },
  "language_info": {
   "codemirror_mode": {
    "name": "ipython",
    "version": 3
   },
   "file_extension": ".py",
   "mimetype": "text/x-python",
   "name": "python",
   "nbconvert_exporter": "python",
   "pygments_lexer": "ipython3",
   "version": "3.10.10"
  }
 },
 "nbformat": 4,
 "nbformat_minor": 5
}
